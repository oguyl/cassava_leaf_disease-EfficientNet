{
 "cells": [
  {
   "cell_type": "markdown",
   "metadata": {
    "papermill": {
     "duration": 0.03399,
     "end_time": "2020-12-08T13:19:28.139955",
     "exception": false,
     "start_time": "2020-12-08T13:19:28.105965",
     "status": "completed"
    },
    "tags": []
   },
   "source": [
    "## Loading packages"
   ]
  },
  {
   "cell_type": "code",
   "execution_count": 1,
   "metadata": {
    "_cell_guid": "79c7e3d0-c299-4dcb-8224-4455121ee9b0",
    "_kg_hide-input": true,
    "_uuid": "d629ff2d2480ee46fbb7e2d37f6b5fab8052498a",
    "execution": {
     "iopub.execute_input": "2020-12-08T13:19:28.219325Z",
     "iopub.status.busy": "2020-12-08T13:19:28.218605Z",
     "iopub.status.idle": "2020-12-08T13:19:34.683703Z",
     "shell.execute_reply": "2020-12-08T13:19:34.682460Z"
    },
    "papermill": {
     "duration": 6.509648,
     "end_time": "2020-12-08T13:19:34.683849",
     "exception": false,
     "start_time": "2020-12-08T13:19:28.174201",
     "status": "completed"
    },
    "tags": []
   },
   "outputs": [],
   "source": [
    "import numpy as np\n",
    "import pandas as pd\n",
    "import matplotlib.pyplot as plt\n",
    "import seaborn as sns\n",
    "import datetime\n",
    "\n",
    "from sklearn.model_selection import train_test_split\n",
    "from sklearn.metrics import accuracy_score\n",
    "import tensorflow as tf\n",
    "from tensorflow.keras import models, layers\n",
    "from tensorflow.keras.preprocessing import image\n",
    "from tensorflow.keras.preprocessing.image import ImageDataGenerator\n",
    "from tensorflow.keras.callbacks import ModelCheckpoint, EarlyStopping, ReduceLROnPlateau\n",
    "from tensorflow.keras.applications import EfficientNetB0\n",
    "from tensorflow.keras.optimizers import Adam\n",
    "\n",
    "# ignoring warnings\n",
    "import warnings\n",
    "warnings.simplefilter(\"ignore\")\n",
    "\n",
    "import os, cv2, json\n",
    "from PIL import Image"
   ]
  },
  {
   "cell_type": "markdown",
   "metadata": {
    "papermill": {
     "duration": 0.034246,
     "end_time": "2020-12-08T13:19:34.753745",
     "exception": false,
     "start_time": "2020-12-08T13:19:34.719499",
     "status": "completed"
    },
    "tags": []
   },
   "source": [
    "## Work directory"
   ]
  },
  {
   "cell_type": "code",
   "execution_count": 2,
   "metadata": {
    "execution": {
     "iopub.execute_input": "2020-12-08T13:19:34.983304Z",
     "iopub.status.busy": "2020-12-08T13:19:34.982158Z",
     "iopub.status.idle": "2020-12-08T13:19:34.991971Z",
     "shell.execute_reply": "2020-12-08T13:19:34.992839Z"
    },
    "papermill": {
     "duration": 0.136012,
     "end_time": "2020-12-08T13:19:34.993069",
     "exception": false,
     "start_time": "2020-12-08T13:19:34.857057",
     "status": "completed"
    },
    "tags": []
   },
   "outputs": [
    {
     "output_type": "execute_result",
     "data": {
      "text/plain": [
       "['label_num_to_disease_map.json',\n",
       " 'sample_submission.csv',\n",
       " 'test_images',\n",
       " 'test_tfrecords',\n",
       " 'train.csv',\n",
       " 'train_images',\n",
       " 'train_tfrecords']"
      ]
     },
     "metadata": {},
     "execution_count": 2
    }
   ],
   "source": [
    "WORK_DIR = './input/cassava-leaf-disease-classification'\n",
    "os.listdir(WORK_DIR)"
   ]
  },
  {
   "cell_type": "markdown",
   "metadata": {
    "papermill": {
     "duration": 0.055736,
     "end_time": "2020-12-08T13:19:35.109819",
     "exception": false,
     "start_time": "2020-12-08T13:19:35.054083",
     "status": "completed"
    },
    "tags": []
   },
   "source": [
    "# First look at the data"
   ]
  },
  {
   "cell_type": "code",
   "execution_count": 3,
   "metadata": {
    "_kg_hide-input": true,
    "execution": {
     "iopub.execute_input": "2020-12-08T13:19:35.220645Z",
     "iopub.status.busy": "2020-12-08T13:19:35.219667Z",
     "iopub.status.idle": "2020-12-08T13:19:35.393491Z",
     "shell.execute_reply": "2020-12-08T13:19:35.392528Z"
    },
    "papermill": {
     "duration": 0.231964,
     "end_time": "2020-12-08T13:19:35.393621",
     "exception": false,
     "start_time": "2020-12-08T13:19:35.161657",
     "status": "completed"
    },
    "tags": []
   },
   "outputs": [
    {
     "output_type": "stream",
     "name": "stdout",
     "text": [
      "Train images: 21397\n"
     ]
    }
   ],
   "source": [
    "print('Train images: %d' %len(os.listdir(\n",
    "    os.path.join(WORK_DIR, \"train_images\"))))"
   ]
  },
  {
   "cell_type": "code",
   "execution_count": 4,
   "metadata": {
    "_kg_hide-input": true,
    "execution": {
     "iopub.execute_input": "2020-12-08T13:19:35.503620Z",
     "iopub.status.busy": "2020-12-08T13:19:35.502633Z",
     "iopub.status.idle": "2020-12-08T13:19:35.511988Z",
     "shell.execute_reply": "2020-12-08T13:19:35.512801Z"
    },
    "papermill": {
     "duration": 0.069246,
     "end_time": "2020-12-08T13:19:35.512984",
     "exception": false,
     "start_time": "2020-12-08T13:19:35.443738",
     "status": "completed"
    },
    "tags": []
   },
   "outputs": [
    {
     "output_type": "stream",
     "name": "stdout",
     "text": [
      "{\n    \"0\": \"Cassava Bacterial Blight (CBB)\",\n    \"1\": \"Cassava Brown Streak Disease (CBSD)\",\n    \"2\": \"Cassava Green Mottle (CGM)\",\n    \"3\": \"Cassava Mosaic Disease (CMD)\",\n    \"4\": \"Healthy\"\n}\n"
     ]
    }
   ],
   "source": [
    "with open(os.path.join(WORK_DIR, \"label_num_to_disease_map.json\")) as file:\n",
    "    print(json.dumps(json.loads(file.read()), indent=4))"
   ]
  },
  {
   "cell_type": "code",
   "execution_count": 5,
   "metadata": {
    "execution": {
     "iopub.execute_input": "2020-12-08T13:19:35.625553Z",
     "iopub.status.busy": "2020-12-08T13:19:35.624637Z",
     "iopub.status.idle": "2020-12-08T13:19:35.682878Z",
     "shell.execute_reply": "2020-12-08T13:19:35.684105Z"
    },
    "papermill": {
     "duration": 0.118073,
     "end_time": "2020-12-08T13:19:35.684336",
     "exception": false,
     "start_time": "2020-12-08T13:19:35.566263",
     "status": "completed"
    },
    "tags": []
   },
   "outputs": [
    {
     "output_type": "execute_result",
     "data": {
      "text/plain": [
       "         image_id  label\n",
       "0  1000015157.jpg      0\n",
       "1  1000201771.jpg      3\n",
       "2   100042118.jpg      1\n",
       "3  1000723321.jpg      1\n",
       "4  1000812911.jpg      3"
      ],
      "text/html": "<div>\n<style scoped>\n    .dataframe tbody tr th:only-of-type {\n        vertical-align: middle;\n    }\n\n    .dataframe tbody tr th {\n        vertical-align: top;\n    }\n\n    .dataframe thead th {\n        text-align: right;\n    }\n</style>\n<table border=\"1\" class=\"dataframe\">\n  <thead>\n    <tr style=\"text-align: right;\">\n      <th></th>\n      <th>image_id</th>\n      <th>label</th>\n    </tr>\n  </thead>\n  <tbody>\n    <tr>\n      <th>0</th>\n      <td>1000015157.jpg</td>\n      <td>0</td>\n    </tr>\n    <tr>\n      <th>1</th>\n      <td>1000201771.jpg</td>\n      <td>3</td>\n    </tr>\n    <tr>\n      <th>2</th>\n      <td>100042118.jpg</td>\n      <td>1</td>\n    </tr>\n    <tr>\n      <th>3</th>\n      <td>1000723321.jpg</td>\n      <td>1</td>\n    </tr>\n    <tr>\n      <th>4</th>\n      <td>1000812911.jpg</td>\n      <td>3</td>\n    </tr>\n  </tbody>\n</table>\n</div>"
     },
     "metadata": {},
     "execution_count": 5
    }
   ],
   "source": [
    "train_labels = pd.read_csv(os.path.join(WORK_DIR, \"train.csv\"))\n",
    "train_labels.head()"
   ]
  },
  {
   "cell_type": "markdown",
   "metadata": {
    "papermill": {
     "duration": 0.148492,
     "end_time": "2020-12-08T13:19:42.267320",
     "exception": false,
     "start_time": "2020-12-08T13:19:42.118828",
     "status": "completed"
    },
    "tags": []
   },
   "source": [
    "# Preparation for modeling"
   ]
  },
  {
   "cell_type": "code",
   "execution_count": 6,
   "metadata": {
    "execution": {
     "iopub.execute_input": "2020-12-08T13:19:42.613484Z",
     "iopub.status.busy": "2020-12-08T13:19:42.612408Z",
     "iopub.status.idle": "2020-12-08T13:19:42.617182Z",
     "shell.execute_reply": "2020-12-08T13:19:42.617974Z"
    },
    "papermill": {
     "duration": 0.184342,
     "end_time": "2020-12-08T13:19:42.618174",
     "exception": false,
     "start_time": "2020-12-08T13:19:42.433832",
     "status": "completed"
    },
    "tags": []
   },
   "outputs": [],
   "source": [
    "# Main parameters\n",
    "BATCH_SIZE = 8\n",
    "STEPS_PER_EPOCH = len(train_labels)*0.8 / BATCH_SIZE\n",
    "VALIDATION_STEPS = len(train_labels)*0.2 / BATCH_SIZE\n",
    "EPOCHS = 20\n",
    "TARGET_SIZE = 512"
   ]
  },
  {
   "cell_type": "markdown",
   "metadata": {
    "papermill": {
     "duration": 0.175506,
     "end_time": "2020-12-08T13:19:42.962973",
     "exception": false,
     "start_time": "2020-12-08T13:19:42.787467",
     "status": "completed"
    },
    "tags": []
   },
   "source": [
    "### ImageDataGenerator"
   ]
  },
  {
   "cell_type": "code",
   "execution_count": 7,
   "metadata": {
    "execution": {
     "iopub.execute_input": "2020-12-08T13:19:43.221843Z",
     "iopub.status.busy": "2020-12-08T13:19:43.219611Z",
     "iopub.status.idle": "2020-12-08T13:20:07.389717Z",
     "shell.execute_reply": "2020-12-08T13:20:07.390433Z"
    },
    "papermill": {
     "duration": 24.295761,
     "end_time": "2020-12-08T13:20:07.390589",
     "exception": false,
     "start_time": "2020-12-08T13:19:43.094828",
     "status": "completed"
    },
    "tags": []
   },
   "outputs": [
    {
     "output_type": "stream",
     "name": "stdout",
     "text": [
      "Found 17118 validated image filenames belonging to 5 classes.\n",
      "Found 4279 validated image filenames belonging to 5 classes.\n"
     ]
    }
   ],
   "source": [
    "train_labels.label = train_labels.label.astype('str')\n",
    "\n",
    "train_datagen = ImageDataGenerator(validation_split = 0.2,\n",
    "                                     preprocessing_function = None,\n",
    "                                     rotation_range = 45,\n",
    "                                     zoom_range = 0.2,\n",
    "                                     horizontal_flip = True,\n",
    "                                     vertical_flip = True,\n",
    "                                     fill_mode = 'nearest',\n",
    "                                     shear_range = 0.1,\n",
    "                                     height_shift_range = 0.1,\n",
    "                                     width_shift_range = 0.1)\n",
    "\n",
    "train_generator = train_datagen.flow_from_dataframe(train_labels,\n",
    "                         directory = os.path.join(WORK_DIR, \"train_images\"),\n",
    "                         subset = \"training\",\n",
    "                         x_col = \"image_id\",\n",
    "                         y_col = \"label\",\n",
    "                         target_size = (TARGET_SIZE, TARGET_SIZE),\n",
    "                         batch_size = BATCH_SIZE,\n",
    "                         class_mode = \"sparse\")\n",
    "\n",
    "\n",
    "validation_datagen = ImageDataGenerator(validation_split = 0.2)\n",
    "\n",
    "validation_generator = validation_datagen.flow_from_dataframe(train_labels,\n",
    "                         directory = os.path.join(WORK_DIR, \"train_images\"),\n",
    "                         subset = \"validation\",\n",
    "                         x_col = \"image_id\",\n",
    "                         y_col = \"label\",\n",
    "                         target_size = (TARGET_SIZE, TARGET_SIZE),\n",
    "                         batch_size = BATCH_SIZE,\n",
    "                         class_mode = \"sparse\")"
   ]
  },
  {
   "cell_type": "markdown",
   "metadata": {
    "papermill": {
     "duration": 0.138823,
     "end_time": "2020-12-08T13:20:12.937992",
     "exception": false,
     "start_time": "2020-12-08T13:20:12.799169",
     "status": "completed"
    },
    "tags": []
   },
   "source": [
    "# Modeling"
   ]
  },
  {
   "cell_type": "markdown",
   "metadata": {
    "papermill": {
     "duration": 0.246003,
     "end_time": "2020-12-08T13:20:14.347625",
     "exception": false,
     "start_time": "2020-12-08T13:20:14.101622",
     "status": "completed"
    },
    "tags": []
   },
   "source": [
    "### Creating the CNN"
   ]
  },
  {
   "cell_type": "code",
   "execution_count": 8,
   "metadata": {
    "execution": {
     "iopub.execute_input": "2020-12-08T13:20:14.928753Z",
     "iopub.status.busy": "2020-12-08T13:20:14.926706Z",
     "iopub.status.idle": "2020-12-08T13:20:14.930519Z",
     "shell.execute_reply": "2020-12-08T13:20:14.931420Z"
    },
    "papermill": {
     "duration": 0.334678,
     "end_time": "2020-12-08T13:20:14.931738",
     "exception": false,
     "start_time": "2020-12-08T13:20:14.597060",
     "status": "completed"
    },
    "tags": []
   },
   "outputs": [],
   "source": [
    "def create_model():\n",
    "    conv_base = EfficientNetB0(include_top = False, weights = None,\n",
    "                               input_shape = (TARGET_SIZE, TARGET_SIZE, 3))\n",
    "    model = conv_base.output\n",
    "    model = layers.GlobalAveragePooling2D()(model)\n",
    "    model = layers.Dense(5, activation = \"softmax\")(model)\n",
    "    model = models.Model(conv_base.input, model)\n",
    "\n",
    "    model.compile(optimizer = Adam(lr = 0.001),\n",
    "                  loss = \"sparse_categorical_crossentropy\",\n",
    "                  metrics = [\"acc\"])\n",
    "    return model"
   ]
  },
  {
   "cell_type": "code",
   "execution_count": 9,
   "metadata": {
    "_kg_hide-output": true,
    "execution": {
     "iopub.execute_input": "2020-12-08T13:20:15.283197Z",
     "iopub.status.busy": "2020-12-08T13:20:15.281941Z",
     "iopub.status.idle": "2020-12-08T13:20:20.348467Z",
     "shell.execute_reply": "2020-12-08T13:20:20.347509Z"
    },
    "papermill": {
     "duration": 5.238672,
     "end_time": "2020-12-08T13:20:20.348640",
     "exception": false,
     "start_time": "2020-12-08T13:20:15.109968",
     "status": "completed"
    },
    "tags": [
     "outputPrepend"
    ]
   },
   "outputs": [
    {
     "output_type": "stream",
     "name": "stdout",
     "text": [
      "t_conv[0][0]       \n__________________________________________________________________________________________________\nblock5b_drop (Dropout)          (None, 32, 32, 112)  0           block5b_project_bn[0][0]         \n__________________________________________________________________________________________________\nblock5b_add (Add)               (None, 32, 32, 112)  0           block5b_drop[0][0]               \n                                                                 block5a_project_bn[0][0]         \n__________________________________________________________________________________________________\nblock5c_expand_conv (Conv2D)    (None, 32, 32, 672)  75264       block5b_add[0][0]                \n__________________________________________________________________________________________________\nblock5c_expand_bn (BatchNormali (None, 32, 32, 672)  2688        block5c_expand_conv[0][0]        \n__________________________________________________________________________________________________\nblock5c_expand_activation (Acti (None, 32, 32, 672)  0           block5c_expand_bn[0][0]          \n__________________________________________________________________________________________________\nblock5c_dwconv (DepthwiseConv2D (None, 32, 32, 672)  16800       block5c_expand_activation[0][0]  \n__________________________________________________________________________________________________\nblock5c_bn (BatchNormalization) (None, 32, 32, 672)  2688        block5c_dwconv[0][0]             \n__________________________________________________________________________________________________\nblock5c_activation (Activation) (None, 32, 32, 672)  0           block5c_bn[0][0]                 \n__________________________________________________________________________________________________\nblock5c_se_squeeze (GlobalAvera (None, 672)          0           block5c_activation[0][0]         \n__________________________________________________________________________________________________\nblock5c_se_reshape (Reshape)    (None, 1, 1, 672)    0           block5c_se_squeeze[0][0]         \n__________________________________________________________________________________________________\nblock5c_se_reduce (Conv2D)      (None, 1, 1, 28)     18844       block5c_se_reshape[0][0]         \n__________________________________________________________________________________________________\nblock5c_se_expand (Conv2D)      (None, 1, 1, 672)    19488       block5c_se_reduce[0][0]          \n__________________________________________________________________________________________________\nblock5c_se_excite (Multiply)    (None, 32, 32, 672)  0           block5c_activation[0][0]         \n                                                                 block5c_se_expand[0][0]          \n__________________________________________________________________________________________________\nblock5c_project_conv (Conv2D)   (None, 32, 32, 112)  75264       block5c_se_excite[0][0]          \n__________________________________________________________________________________________________\nblock5c_project_bn (BatchNormal (None, 32, 32, 112)  448         block5c_project_conv[0][0]       \n__________________________________________________________________________________________________\nblock5c_drop (Dropout)          (None, 32, 32, 112)  0           block5c_project_bn[0][0]         \n__________________________________________________________________________________________________\nblock5c_add (Add)               (None, 32, 32, 112)  0           block5c_drop[0][0]               \n                                                                 block5b_add[0][0]                \n__________________________________________________________________________________________________\nblock6a_expand_conv (Conv2D)    (None, 32, 32, 672)  75264       block5c_add[0][0]                \n__________________________________________________________________________________________________\nblock6a_expand_bn (BatchNormali (None, 32, 32, 672)  2688        block6a_expand_conv[0][0]        \n__________________________________________________________________________________________________\nblock6a_expand_activation (Acti (None, 32, 32, 672)  0           block6a_expand_bn[0][0]          \n__________________________________________________________________________________________________\nblock6a_dwconv_pad (ZeroPadding (None, 35, 35, 672)  0           block6a_expand_activation[0][0]  \n__________________________________________________________________________________________________\nblock6a_dwconv (DepthwiseConv2D (None, 16, 16, 672)  16800       block6a_dwconv_pad[0][0]         \n__________________________________________________________________________________________________\nblock6a_bn (BatchNormalization) (None, 16, 16, 672)  2688        block6a_dwconv[0][0]             \n__________________________________________________________________________________________________\nblock6a_activation (Activation) (None, 16, 16, 672)  0           block6a_bn[0][0]                 \n__________________________________________________________________________________________________\nblock6a_se_squeeze (GlobalAvera (None, 672)          0           block6a_activation[0][0]         \n__________________________________________________________________________________________________\nblock6a_se_reshape (Reshape)    (None, 1, 1, 672)    0           block6a_se_squeeze[0][0]         \n__________________________________________________________________________________________________\nblock6a_se_reduce (Conv2D)      (None, 1, 1, 28)     18844       block6a_se_reshape[0][0]         \n__________________________________________________________________________________________________\nblock6a_se_expand (Conv2D)      (None, 1, 1, 672)    19488       block6a_se_reduce[0][0]          \n__________________________________________________________________________________________________\nblock6a_se_excite (Multiply)    (None, 16, 16, 672)  0           block6a_activation[0][0]         \n                                                                 block6a_se_expand[0][0]          \n__________________________________________________________________________________________________\nblock6a_project_conv (Conv2D)   (None, 16, 16, 192)  129024      block6a_se_excite[0][0]          \n__________________________________________________________________________________________________\nblock6a_project_bn (BatchNormal (None, 16, 16, 192)  768         block6a_project_conv[0][0]       \n__________________________________________________________________________________________________\nblock6b_expand_conv (Conv2D)    (None, 16, 16, 1152) 221184      block6a_project_bn[0][0]         \n__________________________________________________________________________________________________\nblock6b_expand_bn (BatchNormali (None, 16, 16, 1152) 4608        block6b_expand_conv[0][0]        \n__________________________________________________________________________________________________\nblock6b_expand_activation (Acti (None, 16, 16, 1152) 0           block6b_expand_bn[0][0]          \n__________________________________________________________________________________________________\nblock6b_dwconv (DepthwiseConv2D (None, 16, 16, 1152) 28800       block6b_expand_activation[0][0]  \n__________________________________________________________________________________________________\nblock6b_bn (BatchNormalization) (None, 16, 16, 1152) 4608        block6b_dwconv[0][0]             \n__________________________________________________________________________________________________\nblock6b_activation (Activation) (None, 16, 16, 1152) 0           block6b_bn[0][0]                 \n__________________________________________________________________________________________________\nblock6b_se_squeeze (GlobalAvera (None, 1152)         0           block6b_activation[0][0]         \n__________________________________________________________________________________________________\nblock6b_se_reshape (Reshape)    (None, 1, 1, 1152)   0           block6b_se_squeeze[0][0]         \n__________________________________________________________________________________________________\nblock6b_se_reduce (Conv2D)      (None, 1, 1, 48)     55344       block6b_se_reshape[0][0]         \n__________________________________________________________________________________________________\nblock6b_se_expand (Conv2D)      (None, 1, 1, 1152)   56448       block6b_se_reduce[0][0]          \n__________________________________________________________________________________________________\nblock6b_se_excite (Multiply)    (None, 16, 16, 1152) 0           block6b_activation[0][0]         \n                                                                 block6b_se_expand[0][0]          \n__________________________________________________________________________________________________\nblock6b_project_conv (Conv2D)   (None, 16, 16, 192)  221184      block6b_se_excite[0][0]          \n__________________________________________________________________________________________________\nblock6b_project_bn (BatchNormal (None, 16, 16, 192)  768         block6b_project_conv[0][0]       \n__________________________________________________________________________________________________\nblock6b_drop (Dropout)          (None, 16, 16, 192)  0           block6b_project_bn[0][0]         \n__________________________________________________________________________________________________\nblock6b_add (Add)               (None, 16, 16, 192)  0           block6b_drop[0][0]               \n                                                                 block6a_project_bn[0][0]         \n__________________________________________________________________________________________________\nblock6c_expand_conv (Conv2D)    (None, 16, 16, 1152) 221184      block6b_add[0][0]                \n__________________________________________________________________________________________________\nblock6c_expand_bn (BatchNormali (None, 16, 16, 1152) 4608        block6c_expand_conv[0][0]        \n__________________________________________________________________________________________________\nblock6c_expand_activation (Acti (None, 16, 16, 1152) 0           block6c_expand_bn[0][0]          \n__________________________________________________________________________________________________\nblock6c_dwconv (DepthwiseConv2D (None, 16, 16, 1152) 28800       block6c_expand_activation[0][0]  \n__________________________________________________________________________________________________\nblock6c_bn (BatchNormalization) (None, 16, 16, 1152) 4608        block6c_dwconv[0][0]             \n__________________________________________________________________________________________________\nblock6c_activation (Activation) (None, 16, 16, 1152) 0           block6c_bn[0][0]                 \n__________________________________________________________________________________________________\nblock6c_se_squeeze (GlobalAvera (None, 1152)         0           block6c_activation[0][0]         \n__________________________________________________________________________________________________\nblock6c_se_reshape (Reshape)    (None, 1, 1, 1152)   0           block6c_se_squeeze[0][0]         \n__________________________________________________________________________________________________\nblock6c_se_reduce (Conv2D)      (None, 1, 1, 48)     55344       block6c_se_reshape[0][0]         \n__________________________________________________________________________________________________\nblock6c_se_expand (Conv2D)      (None, 1, 1, 1152)   56448       block6c_se_reduce[0][0]          \n__________________________________________________________________________________________________\nblock6c_se_excite (Multiply)    (None, 16, 16, 1152) 0           block6c_activation[0][0]         \n                                                                 block6c_se_expand[0][0]          \n__________________________________________________________________________________________________\nblock6c_project_conv (Conv2D)   (None, 16, 16, 192)  221184      block6c_se_excite[0][0]          \n__________________________________________________________________________________________________\nblock6c_project_bn (BatchNormal (None, 16, 16, 192)  768         block6c_project_conv[0][0]       \n__________________________________________________________________________________________________\nblock6c_drop (Dropout)          (None, 16, 16, 192)  0           block6c_project_bn[0][0]         \n__________________________________________________________________________________________________\nblock6c_add (Add)               (None, 16, 16, 192)  0           block6c_drop[0][0]               \n                                                                 block6b_add[0][0]                \n__________________________________________________________________________________________________\nblock6d_expand_conv (Conv2D)    (None, 16, 16, 1152) 221184      block6c_add[0][0]                \n__________________________________________________________________________________________________\nblock6d_expand_bn (BatchNormali (None, 16, 16, 1152) 4608        block6d_expand_conv[0][0]        \n__________________________________________________________________________________________________\nblock6d_expand_activation (Acti (None, 16, 16, 1152) 0           block6d_expand_bn[0][0]          \n__________________________________________________________________________________________________\nblock6d_dwconv (DepthwiseConv2D (None, 16, 16, 1152) 28800       block6d_expand_activation[0][0]  \n__________________________________________________________________________________________________\nblock6d_bn (BatchNormalization) (None, 16, 16, 1152) 4608        block6d_dwconv[0][0]             \n__________________________________________________________________________________________________\nblock6d_activation (Activation) (None, 16, 16, 1152) 0           block6d_bn[0][0]                 \n__________________________________________________________________________________________________\nblock6d_se_squeeze (GlobalAvera (None, 1152)         0           block6d_activation[0][0]         \n__________________________________________________________________________________________________\nblock6d_se_reshape (Reshape)    (None, 1, 1, 1152)   0           block6d_se_squeeze[0][0]         \n__________________________________________________________________________________________________\nblock6d_se_reduce (Conv2D)      (None, 1, 1, 48)     55344       block6d_se_reshape[0][0]         \n__________________________________________________________________________________________________\nblock6d_se_expand (Conv2D)      (None, 1, 1, 1152)   56448       block6d_se_reduce[0][0]          \n__________________________________________________________________________________________________\nblock6d_se_excite (Multiply)    (None, 16, 16, 1152) 0           block6d_activation[0][0]         \n                                                                 block6d_se_expand[0][0]          \n__________________________________________________________________________________________________\nblock6d_project_conv (Conv2D)   (None, 16, 16, 192)  221184      block6d_se_excite[0][0]          \n__________________________________________________________________________________________________\nblock6d_project_bn (BatchNormal (None, 16, 16, 192)  768         block6d_project_conv[0][0]       \n__________________________________________________________________________________________________\nblock6d_drop (Dropout)          (None, 16, 16, 192)  0           block6d_project_bn[0][0]         \n__________________________________________________________________________________________________\nblock6d_add (Add)               (None, 16, 16, 192)  0           block6d_drop[0][0]               \n                                                                 block6c_add[0][0]                \n__________________________________________________________________________________________________\nblock7a_expand_conv (Conv2D)    (None, 16, 16, 1152) 221184      block6d_add[0][0]                \n__________________________________________________________________________________________________\nblock7a_expand_bn (BatchNormali (None, 16, 16, 1152) 4608        block7a_expand_conv[0][0]        \n__________________________________________________________________________________________________\nblock7a_expand_activation (Acti (None, 16, 16, 1152) 0           block7a_expand_bn[0][0]          \n__________________________________________________________________________________________________\nblock7a_dwconv (DepthwiseConv2D (None, 16, 16, 1152) 10368       block7a_expand_activation[0][0]  \n__________________________________________________________________________________________________\nblock7a_bn (BatchNormalization) (None, 16, 16, 1152) 4608        block7a_dwconv[0][0]             \n__________________________________________________________________________________________________\nblock7a_activation (Activation) (None, 16, 16, 1152) 0           block7a_bn[0][0]                 \n__________________________________________________________________________________________________\nblock7a_se_squeeze (GlobalAvera (None, 1152)         0           block7a_activation[0][0]         \n__________________________________________________________________________________________________\nblock7a_se_reshape (Reshape)    (None, 1, 1, 1152)   0           block7a_se_squeeze[0][0]         \n__________________________________________________________________________________________________\nblock7a_se_reduce (Conv2D)      (None, 1, 1, 48)     55344       block7a_se_reshape[0][0]         \n__________________________________________________________________________________________________\nblock7a_se_expand (Conv2D)      (None, 1, 1, 1152)   56448       block7a_se_reduce[0][0]          \n__________________________________________________________________________________________________\nblock7a_se_excite (Multiply)    (None, 16, 16, 1152) 0           block7a_activation[0][0]         \n                                                                 block7a_se_expand[0][0]          \n__________________________________________________________________________________________________\nblock7a_project_conv (Conv2D)   (None, 16, 16, 320)  368640      block7a_se_excite[0][0]          \n__________________________________________________________________________________________________\nblock7a_project_bn (BatchNormal (None, 16, 16, 320)  1280        block7a_project_conv[0][0]       \n__________________________________________________________________________________________________\ntop_conv (Conv2D)               (None, 16, 16, 1280) 409600      block7a_project_bn[0][0]         \n__________________________________________________________________________________________________\ntop_bn (BatchNormalization)     (None, 16, 16, 1280) 5120        top_conv[0][0]                   \n__________________________________________________________________________________________________\ntop_activation (Activation)     (None, 16, 16, 1280) 0           top_bn[0][0]                     \n__________________________________________________________________________________________________\nglobal_average_pooling2d (Globa (None, 1280)         0           top_activation[0][0]             \n__________________________________________________________________________________________________\ndense (Dense)                   (None, 5)            6405        global_average_pooling2d[0][0]   \n==================================================================================================\nTotal params: 4,055,976\nTrainable params: 4,013,953\nNon-trainable params: 42,023\n__________________________________________________________________________________________________\n"
     ]
    }
   ],
   "source": [
    "model = create_model()\n",
    "model.summary()"
   ]
  },
  {
   "cell_type": "code",
   "execution_count": 10,
   "metadata": {
    "_kg_hide-input": true,
    "execution": {
     "iopub.execute_input": "2020-12-08T13:20:20.729551Z",
     "iopub.status.busy": "2020-12-08T13:20:20.726805Z",
     "iopub.status.idle": "2020-12-08T13:20:20.732302Z",
     "shell.execute_reply": "2020-12-08T13:20:20.731628Z"
    },
    "papermill": {
     "duration": 0.144569,
     "end_time": "2020-12-08T13:20:20.732422",
     "exception": false,
     "start_time": "2020-12-08T13:20:20.587853",
     "status": "completed"
    },
    "tags": []
   },
   "outputs": [
    {
     "output_type": "stream",
     "name": "stdout",
     "text": [
      "Our EfficientNet CNN has 239 layers\n"
     ]
    }
   ],
   "source": [
    "print('Our EfficientNet CNN has %d layers' %len(model.layers))"
   ]
  },
  {
   "cell_type": "markdown",
   "metadata": {
    "papermill": {
     "duration": 0.133673,
     "end_time": "2020-12-08T13:20:20.999107",
     "exception": false,
     "start_time": "2020-12-08T13:20:20.865434",
     "status": "completed"
    },
    "tags": []
   },
   "source": [
    "### Loading weights"
   ]
  },
  {
   "cell_type": "code",
   "execution_count": 11,
   "metadata": {
    "execution": {
     "iopub.execute_input": "2020-12-08T13:20:21.294394Z",
     "iopub.status.busy": "2020-12-08T13:20:21.293295Z",
     "iopub.status.idle": "2020-12-08T13:20:22.495640Z",
     "shell.execute_reply": "2020-12-08T13:20:22.494393Z"
    },
    "papermill": {
     "duration": 1.362289,
     "end_time": "2020-12-08T13:20:22.495781",
     "exception": false,
     "start_time": "2020-12-08T13:20:21.133492",
     "status": "completed"
    },
    "tags": []
   },
   "outputs": [],
   "source": [
    "model.load_weights('./input/cassava-leaf-disease-models/basic_EfNetB0_imagenet_512.h5')"
   ]
  },
  {
   "cell_type": "markdown",
   "metadata": {
    "papermill": {
     "duration": 0.133292,
     "end_time": "2020-12-08T13:20:22.764273",
     "exception": false,
     "start_time": "2020-12-08T13:20:22.630981",
     "status": "completed"
    },
    "tags": []
   },
   "source": [
    "### Training"
   ]
  },
  {
   "cell_type": "code",
   "execution_count": 12,
   "metadata": {
    "_kg_hide-output": true,
    "execution": {
     "iopub.execute_input": "2020-12-08T13:20:23.051656Z",
     "iopub.status.busy": "2020-12-08T13:20:23.050880Z",
     "iopub.status.idle": "2020-12-08T21:44:19.080766Z",
     "shell.execute_reply": "2020-12-08T21:44:19.080022Z"
    },
    "papermill": {
     "duration": 30236.18217,
     "end_time": "2020-12-08T21:44:19.080909",
     "exception": false,
     "start_time": "2020-12-08T13:20:22.898739",
     "status": "completed"
    },
    "tags": []
   },
   "outputs": [
    {
     "output_type": "stream",
     "name": "stdout",
     "text": [
      "Epoch 1/20\n",
      "   6/2139 [..............................] - ETA: 6:44:04 - loss: 1.4155 - acc: 0.4375"
     ]
    }
   ],
   "source": [
    "model_save = ModelCheckpoint('./EffNetB0_512_8_best_weights.h5', \n",
    "                             save_best_only = True, \n",
    "                             save_weights_only = True,\n",
    "                             monitor = 'val_loss', \n",
    "                             mode = 'min', verbose = 1)\n",
    "early_stop = EarlyStopping(monitor = 'val_loss', min_delta = 0.001, \n",
    "                           patience = 5, mode = 'min', verbose = 1,\n",
    "                           restore_best_weights = True)\n",
    "reduce_lr = ReduceLROnPlateau(monitor = 'val_loss', factor = 0.3, \n",
    "                              patience = 2, min_delta = 0.001, \n",
    "                              mode = 'min', verbose = 1)\n",
    "\n",
    "\n",
    "history = model.fit(\n",
    "    train_generator,\n",
    "    steps_per_epoch = STEPS_PER_EPOCH,\n",
    "    epochs = EPOCHS,\n",
    "    validation_data = validation_generator,\n",
    "    validation_steps = VALIDATION_STEPS,\n",
    "    callbacks = [model_save, early_stop, reduce_lr]\n",
    ")"
   ]
  },
  {
   "cell_type": "code",
   "execution_count": 1,
   "metadata": {
    "_kg_hide-input": true,
    "execution": {
     "iopub.execute_input": "2020-12-08T21:44:49.594972Z",
     "iopub.status.busy": "2020-12-08T21:44:49.583875Z",
     "iopub.status.idle": "2020-12-08T21:44:50.163922Z",
     "shell.execute_reply": "2020-12-08T21:44:50.164497Z"
    },
    "papermill": {
     "duration": 16.621981,
     "end_time": "2020-12-08T21:44:50.164636",
     "exception": false,
     "start_time": "2020-12-08T21:44:33.542655",
     "status": "completed"
    },
    "tags": []
   },
   "outputs": [
    {
     "output_type": "error",
     "ename": "NameError",
     "evalue": "name 'history' is not defined",
     "traceback": [
      "\u001b[1;31m---------------------------------------------------------------------------\u001b[0m",
      "\u001b[1;31mNameError\u001b[0m                                 Traceback (most recent call last)",
      "\u001b[1;32m<ipython-input-1-ba7421ce077f>\u001b[0m in \u001b[0;36m<module>\u001b[1;34m\u001b[0m\n\u001b[1;32m----> 1\u001b[1;33m \u001b[0macc\u001b[0m \u001b[1;33m=\u001b[0m \u001b[0mhistory\u001b[0m\u001b[1;33m.\u001b[0m\u001b[0mhistory\u001b[0m\u001b[1;33m[\u001b[0m\u001b[1;34m'acc'\u001b[0m\u001b[1;33m]\u001b[0m\u001b[1;33m\u001b[0m\u001b[1;33m\u001b[0m\u001b[0m\n\u001b[0m\u001b[0;32m      2\u001b[0m \u001b[0mval_acc\u001b[0m \u001b[1;33m=\u001b[0m \u001b[0mhistory\u001b[0m\u001b[1;33m.\u001b[0m\u001b[0mhistory\u001b[0m\u001b[1;33m[\u001b[0m\u001b[1;34m'val_acc'\u001b[0m\u001b[1;33m]\u001b[0m\u001b[1;33m\u001b[0m\u001b[1;33m\u001b[0m\u001b[0m\n\u001b[0;32m      3\u001b[0m \u001b[0mloss\u001b[0m \u001b[1;33m=\u001b[0m \u001b[0mhistory\u001b[0m\u001b[1;33m.\u001b[0m\u001b[0mhistory\u001b[0m\u001b[1;33m[\u001b[0m\u001b[1;34m'loss'\u001b[0m\u001b[1;33m]\u001b[0m\u001b[1;33m\u001b[0m\u001b[1;33m\u001b[0m\u001b[0m\n\u001b[0;32m      4\u001b[0m \u001b[0mval_loss\u001b[0m \u001b[1;33m=\u001b[0m \u001b[0mhistory\u001b[0m\u001b[1;33m.\u001b[0m\u001b[0mhistory\u001b[0m\u001b[1;33m[\u001b[0m\u001b[1;34m'val_loss'\u001b[0m\u001b[1;33m]\u001b[0m\u001b[1;33m\u001b[0m\u001b[1;33m\u001b[0m\u001b[0m\n\u001b[0;32m      5\u001b[0m \u001b[1;33m\u001b[0m\u001b[0m\n",
      "\u001b[1;31mNameError\u001b[0m: name 'history' is not defined"
     ]
    }
   ],
   "source": [
    "acc = history.history['acc']\n",
    "val_acc = history.history['val_acc']\n",
    "loss = history.history['loss']\n",
    "val_loss = history.history['val_loss']\n",
    "\n",
    "epochs = range(1, len(acc) + 1)\n",
    "\n",
    "fig, (ax1, ax2) = plt.subplots(1, 2, figsize=(15, 5))\n",
    "sns.set_style(\"white\")\n",
    "plt.suptitle('Train history', size = 15)\n",
    "\n",
    "ax1.plot(epochs, acc, \"bo\", label = \"Training acc\")\n",
    "ax1.plot(epochs, val_acc, \"b\", label = \"Validation acc\")\n",
    "ax1.set_title(\"Training and validation acc\")\n",
    "ax1.legend()\n",
    "\n",
    "ax2.plot(epochs, loss, \"bo\", label = \"Training loss\", color = 'red')\n",
    "ax2.plot(epochs, val_loss, \"b\", label = \"Validation loss\", color = 'red')\n",
    "ax2.set_title(\"Training and validation loss\")\n",
    "ax2.legend()\n",
    "\n",
    "plt.show()"
   ]
  },
  {
   "cell_type": "code",
   "execution_count": 24,
   "metadata": {
    "execution": {
     "iopub.execute_input": "2020-12-08T21:45:19.144286Z",
     "iopub.status.busy": "2020-12-08T21:45:19.128936Z",
     "iopub.status.idle": "2020-12-08T21:45:19.818370Z",
     "shell.execute_reply": "2020-12-08T21:45:19.817802Z"
    },
    "papermill": {
     "duration": 15.492015,
     "end_time": "2020-12-08T21:45:19.818503",
     "exception": false,
     "start_time": "2020-12-08T21:45:04.326488",
     "status": "completed"
    },
    "tags": []
   },
   "outputs": [],
   "source": [
    "model.save('./EffNetB0_512_8.h5')"
   ]
  }
 ],
 "metadata": {
  "kernelspec": {
   "name": "python395jvsc74a57bd03a0e48c01c0ff573e7e25d7caaa489fa76d93108a24cdb99d9754340c5ea8f0c",
   "display_name": "Python 3.9.5 64-bit ('PythonSoftwareFoundation.Python.3.9_qbz5n2kfra8p0')"
  },
  "language_info": {
   "codemirror_mode": {
    "name": "ipython",
    "version": 3
   },
   "file_extension": ".py",
   "mimetype": "text/x-python",
   "name": "python",
   "nbconvert_exporter": "python",
   "pygments_lexer": "ipython3",
   "version": "3.9.5"
  },
  "papermill": {
   "duration": 30796.843921,
   "end_time": "2020-12-08T21:52:40.491673",
   "environment_variables": {},
   "exception": null,
   "input_path": "__notebook__.ipynb",
   "output_path": "__notebook__.ipynb",
   "parameters": {},
   "start_time": "2020-12-08T13:19:23.647752",
   "version": "2.1.0"
  },
  "metadata": {
   "interpreter": {
    "hash": "3a0e48c01c0ff573e7e25d7caaa489fa76d93108a24cdb99d9754340c5ea8f0c"
   }
  }
 },
 "nbformat": 4,
 "nbformat_minor": 4
}